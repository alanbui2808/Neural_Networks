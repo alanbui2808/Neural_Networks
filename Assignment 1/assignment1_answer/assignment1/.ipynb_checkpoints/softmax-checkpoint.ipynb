{
 "cells": [
  {
   "cell_type": "markdown",
   "metadata": {},
   "source": [
    "# Softmax exercise\n",
    "\n",
    "*Complete and hand in this completed worksheet (including its outputs and any supporting code outside of the worksheet) with your assignment submission. For more details see the [assignments page](https://compsci682-fa19.github.io/assignments2019/assignment1/) on the course website.*\n",
    "\n",
    "This exercise is analogous to the SVM exercise. You will:\n",
    "\n",
    "- implement a fully-vectorized **loss function** for the Softmax classifier\n",
    "- implement the fully-vectorized expression for its **analytic gradient**\n",
    "- **check your implementation** with numerical gradient\n",
    "- use a validation set to **tune the learning rate and regularization** strength\n",
    "- **optimize** the loss function with **SGD**\n",
    "- **visualize** the final learned weights\n"
   ]
  },
  {
   "cell_type": "code",
   "execution_count": 1,
   "metadata": {},
   "outputs": [],
   "source": [
    "from __future__ import print_function\n",
    "import random\n",
    "import numpy as np\n",
    "from cs682.data_utils import load_CIFAR10\n",
    "import matplotlib.pyplot as plt\n",
    "\n",
    "\n",
    "%matplotlib inline\n",
    "plt.rcParams['figure.figsize'] = (10.0, 8.0) # set default size of plots\n",
    "plt.rcParams['image.interpolation'] = 'nearest'\n",
    "plt.rcParams['image.cmap'] = 'gray'\n",
    "\n",
    "# for auto-reloading extenrnal modules\n",
    "# see http://stackoverflow.com/questions/1907993/autoreload-of-modules-in-ipython\n",
    "%load_ext autoreload\n",
    "%autoreload 2"
   ]
  },
  {
   "cell_type": "code",
   "execution_count": 2,
   "metadata": {},
   "outputs": [
    {
     "name": "stdout",
     "output_type": "stream",
     "text": [
      "Train data shape:  (49000, 3073)\n",
      "Train labels shape:  (49000,)\n",
      "Validation data shape:  (1000, 3073)\n",
      "Validation labels shape:  (1000,)\n",
      "Test data shape:  (1000, 3073)\n",
      "Test labels shape:  (1000,)\n",
      "dev data shape:  (500, 3073)\n",
      "dev labels shape:  (500,)\n"
     ]
    }
   ],
   "source": [
    "def get_CIFAR10_data(num_training=49000, num_validation=1000, num_test=1000, num_dev=500):\n",
    "    \"\"\"\n",
    "    Load the CIFAR-10 dataset from disk and perform preprocessing to prepare\n",
    "    it for the linear classifier. These are the same steps as we used for the\n",
    "    SVM, but condensed to a single function.  \n",
    "    \"\"\"\n",
    "    # Load the raw CIFAR-10 data\n",
    "    cifar10_dir = 'cs682/datasets/cifar-10-batches-py'\n",
    "    \n",
    "    X_train, y_train, X_test, y_test = load_CIFAR10(cifar10_dir)\n",
    "    \n",
    "    # subsample the data\n",
    "    mask = list(range(num_training, num_training + num_validation))\n",
    "    X_val = X_train[mask]\n",
    "    y_val = y_train[mask]\n",
    "    mask = list(range(num_training))\n",
    "    X_train = X_train[mask]\n",
    "    y_train = y_train[mask]\n",
    "    mask = list(range(num_test))\n",
    "    X_test = X_test[mask]\n",
    "    y_test = y_test[mask]\n",
    "    mask = np.random.choice(num_training, num_dev, replace=False)\n",
    "    X_dev = X_train[mask]\n",
    "    y_dev = y_train[mask]\n",
    "    \n",
    "    # Preprocessing: reshape the image data into rows\n",
    "    X_train = np.reshape(X_train, (X_train.shape[0], -1))\n",
    "    X_val = np.reshape(X_val, (X_val.shape[0], -1))\n",
    "    X_test = np.reshape(X_test, (X_test.shape[0], -1))\n",
    "    X_dev = np.reshape(X_dev, (X_dev.shape[0], -1))\n",
    "    \n",
    "    # Normalize the data: subtract the mean image\n",
    "    mean_image = np.mean(X_train, axis = 0)\n",
    "    X_train -= mean_image\n",
    "    X_val -= mean_image\n",
    "    X_test -= mean_image\n",
    "    X_dev -= mean_image\n",
    "    \n",
    "    # add bias dimension and transform into columns\n",
    "    X_train = np.hstack([X_train, np.ones((X_train.shape[0], 1))])\n",
    "    X_val = np.hstack([X_val, np.ones((X_val.shape[0], 1))])\n",
    "    X_test = np.hstack([X_test, np.ones((X_test.shape[0], 1))])\n",
    "    X_dev = np.hstack([X_dev, np.ones((X_dev.shape[0], 1))])\n",
    "    \n",
    "    return X_train, y_train, X_val, y_val, X_test, y_test, X_dev, y_dev\n",
    "\n",
    "\n",
    "# Cleaning up variables to prevent loading data multiple times (which may cause memory issue)\n",
    "try:\n",
    "    del X_train, y_train\n",
    "    del X_test, y_test\n",
    "    print('Clear previously loaded data.')\n",
    "except:\n",
    "    pass\n",
    "\n",
    "# Invoke the above function to get our data.\n",
    "X_train, y_train, X_val, y_val, X_test, y_test, X_dev, y_dev = get_CIFAR10_data()\n",
    "print('Train data shape: ', X_train.shape)\n",
    "print('Train labels shape: ', y_train.shape)\n",
    "print('Validation data shape: ', X_val.shape)\n",
    "print('Validation labels shape: ', y_val.shape)\n",
    "print('Test data shape: ', X_test.shape)\n",
    "print('Test labels shape: ', y_test.shape)\n",
    "print('dev data shape: ', X_dev.shape)\n",
    "print('dev labels shape: ', y_dev.shape)"
   ]
  },
  {
   "cell_type": "markdown",
   "metadata": {},
   "source": [
    "## Softmax Classifier\n",
    "\n",
    "Your code for this section will all be written inside **cs682/classifiers/softmax.py**. \n"
   ]
  },
  {
   "cell_type": "code",
   "execution_count": 3,
   "metadata": {},
   "outputs": [
    {
     "name": "stdout",
     "output_type": "stream",
     "text": [
      "loss: 2.327314\n",
      "sanity check: 2.302585\n"
     ]
    }
   ],
   "source": [
    "# First implement the naive softmax loss function with nested loops.\n",
    "# Open the file cs682/classifiers/softmax.py and implement the\n",
    "# softmax_loss_naive function.\n",
    "\n",
    "from cs682.classifiers.softmax import softmax_loss_naive\n",
    "import time\n",
    "\n",
    "# Generate a random softmax weight matrix and use it to compute the loss.\n",
    "W = np.random.randn(3073, 10) * 0.0001\n",
    "loss, grad = softmax_loss_naive(W, X_dev, y_dev, 0.0)\n",
    "\n",
    "# As a rough sanity check, our loss should be something close to -log(0.1).\n",
    "print('loss: %f' % loss)\n",
    "print('sanity check: %f' % (-np.log(0.1)))"
   ]
  },
  {
   "cell_type": "markdown",
   "metadata": {},
   "source": [
    "**Inline Question 1**:\n",
    "Why do we expect our loss to be close to -log(0.1)? Explain briefly.**\n",
    "\n",
    "**Answer**:\n",
    "Since we have not really trained the model, we just randomly generate $W$ we would expect our loss result to be close to expected probability of randomly correctly classifying the dataset which is $\\frac{1}{N}$ where $N$ is number of classes, which is 10 in this case.\n"
   ]
  },
  {
   "cell_type": "markdown",
   "metadata": {},
   "source": [
    "### Softmax Gradient Derivation:\n",
    "We have the gradient $\\nabla_W L_i$ as following:\n",
    "$$ \\frac{\\partial L_i}{\\partial W} = \\begin{bmatrix} \\frac{\\partial L_i}{\\partial w_1} & \\frac{\\partial L_i}{\\partial w_2} & \\cdots & \\frac{\\partial L_i}{\\partial w_C} \\end{bmatrix}$$\n",
    "\n",
    "We take a look at:\n",
    "$$\\frac{\\partial L_i}{\\partial w_1} = \\frac{\\partial} {\\partial w_1} -\\log\\left( \\frac{e^{s_{y_i}}} {\\sum_{j} e^{s_j}}\\right) = -\\frac{\\partial s_{y_i}}{\\partial w_1} + \\frac{\\partial }{\\partial w_1} \\log \\left(\\sum_{j} e^{s_j} \\right)$$\n",
    "\n",
    "We know that the first term $\\frac{\\partial s_{y_i}}{\\partial w_1} = x_i$ if $y_i = 1$ ($x_1$ belongs to class 1) else 0. \n",
    "\n",
    "We then move to second term:\n",
    "$$\\frac{\\partial}{\\partial w_1} \\log \\left(\\sum_{j} e^{s_j} \\right) = \\frac{1}{\\sum_{j} e^{s_j}} \\left(\\frac{\\partial}{\\partial w_1}\\sum_{j} e^{s_j}\\right)$$\n",
    "\n",
    "Thus:\n",
    "\\begin{align}\n",
    "    \\begin{split}\n",
    "        \\frac{\\partial}{\\partial w_1}\\sum_{j} e^{s_j} &= \\frac{\\partial}{\\partial w_1} \\left( e^{w_1^T x_1} + \\cdots + e^{w_C^T x_1} \\right) \\\\\n",
    "        &= \\frac{\\partial}{\\partial w_1} e^{w_1^T x_1} \\\\\n",
    "        &= x_1 \\text{ } e^{w_1^T x_1} = x_1 \\text{ } e^{s_1}\n",
    "    \\end{split}\n",
    "\\end{align}\n",
    "\n",
    "Putting 2 terms together we obtain:\n",
    "$$\\frac{\\partial L_i}{\\partial w_1} = -\\mathbb{1}(y_i = 1) \\cdot x_i \\text{ }+\\text{ } x_i \\cdot \\frac{e^{s_1}}{\\sum_{j} e^{s_j}}$$\n",
    "\n",
    "Furthermore, we can generalize this as following:\n",
    "$$ \\frac{\\partial L_i}{\\partial w_j} = -\\mathbb{1}(y_i = j) \\cdot x_i \\text{ }+\\text{ } x_i \\cdot \\frac{e^{s_j}}{\\sum_{j} e^{s_j}}$$"
   ]
  },
  {
   "cell_type": "code",
   "execution_count": 4,
   "metadata": {},
   "outputs": [
    {
     "name": "stdout",
     "output_type": "stream",
     "text": [
      "numerical: 2.191868 analytic: 2.191868, relative error: 1.733741e-08\n",
      "numerical: -0.859456 analytic: -0.859456, relative error: 2.520253e-08\n",
      "numerical: -0.291688 analytic: -0.291688, relative error: 1.526289e-07\n",
      "numerical: -0.593596 analytic: -0.593596, relative error: 6.467868e-08\n",
      "numerical: -4.122239 analytic: -4.122239, relative error: 6.426925e-09\n",
      "numerical: -1.330545 analytic: -1.330545, relative error: 1.836495e-08\n",
      "numerical: -1.314972 analytic: -1.314972, relative error: 2.906269e-09\n",
      "numerical: 2.116194 analytic: 2.116194, relative error: 4.506228e-09\n",
      "numerical: 1.629751 analytic: 1.629751, relative error: 8.366926e-09\n",
      "numerical: 0.053424 analytic: 0.053424, relative error: 4.009200e-08\n",
      "#########################################################################\n",
      "#                         Regularization ON                             #\n",
      "#########################################################################\n",
      "numerical: 0.954435 analytic: 0.954435, relative error: 4.954635e-09\n",
      "numerical: -0.285675 analytic: -0.285675, relative error: 6.720184e-08\n",
      "numerical: 1.337069 analytic: 1.337069, relative error: 3.041608e-08\n",
      "numerical: 1.918149 analytic: 1.918149, relative error: 3.118454e-08\n",
      "numerical: 1.619812 analytic: 1.619811, relative error: 3.749345e-08\n",
      "numerical: 2.041961 analytic: 2.041961, relative error: 5.457738e-09\n",
      "numerical: 1.483506 analytic: 1.483506, relative error: 2.341970e-08\n",
      "numerical: -1.489451 analytic: -1.489452, relative error: 3.222898e-08\n",
      "numerical: -3.843398 analytic: -3.843398, relative error: 2.567121e-09\n",
      "numerical: 0.826761 analytic: 0.826761, relative error: 7.774714e-08\n"
     ]
    }
   ],
   "source": [
    "# Complete the implementation of softmax_loss_naive and implement a (naive)\n",
    "# version of the gradient that uses nested loops.\n",
    "loss, grad = softmax_loss_naive(W, X_dev, y_dev, 0.0)\n",
    "\n",
    "# As we did for the SVM, use numeric gradient checking as a debugging tool.\n",
    "# The numeric gradient should be close to the analytic gradient.\n",
    "from cs682.gradient_check import grad_check_sparse\n",
    "f = lambda w: softmax_loss_naive(w, X_dev, y_dev, 0.0)[0]\n",
    "grad_numerical = grad_check_sparse(f, W, grad, 10)\n",
    "\n",
    "print('#########################################################################')\n",
    "print('#                         Regularization ON                             #')\n",
    "print('#########################################################################')\n",
    "    \n",
    "# similar to SVM case, do another gradient check with regularization\n",
    "loss, grad = softmax_loss_naive(W, X_dev, y_dev, 5e1)\n",
    "f = lambda w: softmax_loss_naive(w, X_dev, y_dev, 5e1)[0]\n",
    "grad_numerical = grad_check_sparse(f, W, grad, 10)"
   ]
  },
  {
   "cell_type": "markdown",
   "metadata": {},
   "source": [
    "### Vectorized Softmax Gradient\n",
    "\n",
    "From the previous derivation, we know that $\\nabla_W L$ will have the form as following:\n",
    "$$\\frac{\\partial L}{\\partial W} = \\begin{bmatrix} \\frac{\\partial L}{\\partial w_1} & \\cdots & \\frac{\\partial L}{\\partial w_C}\\end{bmatrix} $$\n",
    "\n",
    "Individually, we have:\n",
    "\\begin{align}\n",
    "\\begin{split}\n",
    "    \\frac{\\partial L}{\\partial w_j} &= \\sum_{i}^N \\frac{\\partial L_i}{\\partial w_j} \\\\\n",
    "    &= \\sum_{i}^N x_i \\cdot \\frac{e^{s_j}}{\\sum_{j} e^{s_j}} \\text{ } - \\text{ } x_j \\quad \\text{where $x_j$ has label $j$}\n",
    "\\end{split}\n",
    "\\end{align}\n",
    "\n",
    "#### Softmax matrix\n",
    "\n",
    "We have seen that it is useful to compute softmax vector for each iteration while training $x_i$ naively with loops. Thus, we will compute Softmax matrix and use it in our vectorized Loss and Gradient:\n",
    "\n",
    "$$Softmax = \\begin{bmatrix} \\frac{s_{11}}{\\sum_{j} e^{s_j}} & \\cdots & \\frac{s_{1C}}{\\sum_{j} e^{s_j}} \\\\ \\vdots & \\cdots & \\vdots \\\\ \\frac{s_{N1}}{\\sum_{j} e^{s_j}} & \\cdots & \\frac{s_{NC}}{\\sum_{j} e^{s_j}} \\end{bmatrix}$$\n",
    "\n",
    "Once we compute Softmax, we use similar idea to compute gradient of SVM. But we must $-1$ those entries (column of each row) where $x_j$ has label $j$. In the end, the $\\nabla_W L = X^T \\cdot M$ where M is the new matrix after we update $Softmax$. Vectorized Loss is trivial after computing $Softmax$."
   ]
  },
  {
   "cell_type": "code",
   "execution_count": 5,
   "metadata": {},
   "outputs": [
    {
     "name": "stdout",
     "output_type": "stream",
     "text": [
      "naive loss: 2.327314e+00 computed in 0.120594s\n",
      "vectorized loss: 2.327314e+00 computed in 0.003711s\n",
      "Loss difference: 0.000000\n",
      "Gradient difference: 0.000000\n"
     ]
    }
   ],
   "source": [
    "# Now that we have a naive implementation of the softmax loss function and its gradient,\n",
    "# implement a vectorized version in softmax_loss_vectorized.\n",
    "# The two versions should compute the same results, but the vectorized version should be\n",
    "# much faster.\n",
    "tic = time.time()\n",
    "loss_naive, grad_naive = softmax_loss_naive(W, X_dev, y_dev, 0.000005)\n",
    "toc = time.time()\n",
    "print('naive loss: %e computed in %fs' % (loss_naive, toc - tic))\n",
    "\n",
    "from cs682.classifiers.softmax import softmax_loss_vectorized\n",
    "tic = time.time()\n",
    "loss_vectorized, grad_vectorized = softmax_loss_vectorized(W, X_dev, y_dev, 0.000005)\n",
    "toc = time.time()\n",
    "print('vectorized loss: %e computed in %fs' % (loss_vectorized, toc - tic))\n",
    "\n",
    "# As we did for the SVM, we use the Frobenius norm to compare the two versions\n",
    "# of the gradient.\n",
    "grad_difference = np.linalg.norm(grad_naive - grad_vectorized, ord='fro')\n",
    "print('Loss difference: %f' % np.abs(loss_naive - loss_vectorized))\n",
    "print('Gradient difference: %f' % grad_difference)"
   ]
  },
  {
   "cell_type": "code",
   "execution_count": 8,
   "metadata": {},
   "outputs": [
    {
     "name": "stdout",
     "output_type": "stream",
     "text": [
      "Validation Accuracy: 0.337000\n",
      "Validation Accuracy: 0.326000\n",
      "Validation Accuracy: 0.350000\n",
      "Validation Accuracy: 0.329000\n",
      "Validation Accuracy: 0.331000\n",
      "Validation Accuracy: 0.237000\n",
      "Validation Accuracy: 0.293000\n",
      "Validation Accuracy: 0.355000\n",
      "Validation Accuracy: 0.066000\n",
      "Validation Accuracy: 0.087000\n",
      "Validation Accuracy: 0.056000\n"
     ]
    },
    {
     "name": "stderr",
     "output_type": "stream",
     "text": [
      "/Users/alanbui/Desktop/CS682/assignment1/assignment1/cs682/classifiers/softmax.py:84: RuntimeWarning: overflow encountered in subtract\n",
      "  scores -= maxes # shift by max(scores)\n"
     ]
    },
    {
     "name": "stdout",
     "output_type": "stream",
     "text": [
      "Validation Accuracy: 0.087000\n",
      "Validation Accuracy: 0.087000\n",
      "Validation Accuracy: 0.202000\n",
      "Validation Accuracy: 0.158000\n",
      "Validation Accuracy: 0.066000\n",
      "Validation Accuracy: 0.350000\n",
      "Validation Accuracy: 0.294000\n",
      "Validation Accuracy: 0.345000\n",
      "Validation Accuracy: 0.334000\n",
      "Validation Accuracy: 0.315000\n",
      "Validation Accuracy: 0.404000\n",
      "Validation Accuracy: 0.403000\n",
      "Validation Accuracy: 0.348000\n",
      "Validation Accuracy: 0.179000\n",
      "Validation Accuracy: 0.136000\n",
      "Validation Accuracy: 0.135000\n",
      "Validation Accuracy: 0.104000\n",
      "Validation Accuracy: 0.063000\n",
      "Validation Accuracy: 0.244000\n",
      "Validation Accuracy: 0.309000\n",
      "Validation Accuracy: 0.144000\n",
      "lr 1.000000e-07 reg 1.000000e+03 train accuracy: 0.264429 val accuracy: 0.237000\n",
      "lr 1.000000e-07 reg 1.500000e+03 train accuracy: 0.270531 val accuracy: 0.293000\n",
      "lr 1.000000e-07 reg 2.000000e+04 train accuracy: 0.334510 val accuracy: 0.355000\n",
      "lr 1.000000e-07 reg 2.500000e+04 train accuracy: 0.331347 val accuracy: 0.337000\n",
      "lr 1.000000e-07 reg 3.000000e+04 train accuracy: 0.319388 val accuracy: 0.329000\n",
      "lr 1.000000e-07 reg 3.500000e+04 train accuracy: 0.317286 val accuracy: 0.331000\n",
      "lr 1.000000e-07 reg 5.000000e+04 train accuracy: 0.302714 val accuracy: 0.326000\n",
      "lr 1.000000e-06 reg 1.000000e+03 train accuracy: 0.398367 val accuracy: 0.404000\n",
      "lr 1.000000e-06 reg 1.500000e+03 train accuracy: 0.396224 val accuracy: 0.403000\n",
      "lr 1.000000e-06 reg 2.000000e+04 train accuracy: 0.334245 val accuracy: 0.348000\n",
      "lr 1.000000e-06 reg 2.500000e+04 train accuracy: 0.324327 val accuracy: 0.350000\n",
      "lr 1.000000e-06 reg 3.000000e+04 train accuracy: 0.308469 val accuracy: 0.334000\n",
      "lr 1.000000e-06 reg 3.500000e+04 train accuracy: 0.302429 val accuracy: 0.315000\n",
      "lr 1.000000e-06 reg 5.000000e+04 train accuracy: 0.295327 val accuracy: 0.294000\n",
      "lr 1.000000e-05 reg 1.000000e+03 train accuracy: 0.233857 val accuracy: 0.244000\n",
      "lr 1.000000e-05 reg 1.500000e+03 train accuracy: 0.291918 val accuracy: 0.309000\n",
      "lr 1.000000e-05 reg 2.000000e+04 train accuracy: 0.147449 val accuracy: 0.144000\n",
      "lr 1.000000e-05 reg 2.500000e+04 train accuracy: 0.178000 val accuracy: 0.179000\n",
      "lr 1.000000e-05 reg 3.000000e+04 train accuracy: 0.094265 val accuracy: 0.104000\n",
      "lr 1.000000e-05 reg 3.500000e+04 train accuracy: 0.084959 val accuracy: 0.063000\n",
      "lr 1.000000e-05 reg 5.000000e+04 train accuracy: 0.133143 val accuracy: 0.136000\n",
      "lr 5.000000e-05 reg 1.000000e+03 train accuracy: 0.193224 val accuracy: 0.202000\n",
      "lr 5.000000e-05 reg 1.500000e+03 train accuracy: 0.158061 val accuracy: 0.158000\n",
      "lr 5.000000e-05 reg 2.000000e+04 train accuracy: 0.077735 val accuracy: 0.066000\n",
      "lr 5.000000e-05 reg 2.500000e+04 train accuracy: 0.057571 val accuracy: 0.066000\n",
      "lr 5.000000e-05 reg 3.000000e+04 train accuracy: 0.100265 val accuracy: 0.087000\n",
      "lr 5.000000e-05 reg 3.500000e+04 train accuracy: 0.100265 val accuracy: 0.087000\n",
      "lr 5.000000e-05 reg 5.000000e+04 train accuracy: 0.100265 val accuracy: 0.087000\n",
      "best validation accuracy achieved during cross-validation: 0.404000\n"
     ]
    }
   ],
   "source": [
    "# Use the validation set to tune hyperparameters (regularization strength and\n",
    "# learning rate). You should experiment with different ranges for the learning\n",
    "# rates and regularization strengths; if you are careful you should be able to\n",
    "# get a classification accuracy of over 0.35 on the validation set.\n",
    "from cs682.classifiers import Softmax\n",
    "results = {}\n",
    "best_val = -1\n",
    "best_softmax = None\n",
    "learning_rates = [1e-7, 5e-5, 1e-6, 1e-5]\n",
    "regularization_strengths = [2.5e4, 5e4, 2e4, 3e4, 3.5e4, 1e3, 1.5e3, 2e4]\n",
    "\n",
    "################################################################################\n",
    "# TODO:                                                                        #\n",
    "# Use the validation set to set the learning rate and regularization strength. #\n",
    "# This should be identical to the validation that you did for the SVM; save    #\n",
    "# the best trained softmax classifer in best_softmax.                          #\n",
    "################################################################################\n",
    "\n",
    "for lr in learning_rates:\n",
    "    for reg in regularization_strengths:\n",
    "        softmax = Softmax()\n",
    "        # Train softmax\n",
    "        lost_his = softmax.train(X_train, y_train, lr, reg, num_iters=1500, verbose=True)\n",
    "        \n",
    "        # Training accuracy:\n",
    "        y_train_pred = softmax.predict(X_train)\n",
    "        training_accuracy = np.mean(y_train == y_train_pred)\n",
    "        # Validation accuracy:\n",
    "        y_val_pred = softmax.predict(X_val)\n",
    "        validation_accuracy = np.mean(y_val == y_val_pred)\n",
    "        \n",
    "        print('Validation Accuracy: %f' % validation_accuracy)\n",
    "        \n",
    "        # Record:\n",
    "        results[(lr, reg)] = (training_accuracy, validation_accuracy)\n",
    "        # Update\n",
    "        if validation_accuracy > best_val:\n",
    "            best_val, best_softmax = validation_accuracy, softmax\n",
    "            \n",
    "################################################################################\n",
    "#                              END OF YOUR CODE                                #\n",
    "################################################################################\n",
    "\n",
    "# Print out results.\n",
    "for lr, reg in sorted(results):\n",
    "    train_accuracy, val_accuracy = results[(lr, reg)]\n",
    "    print('lr %e reg %e train accuracy: %f val accuracy: %f' % (\n",
    "                lr, reg, train_accuracy, val_accuracy))\n",
    "    \n",
    "print('best validation accuracy achieved during cross-validation: %f' % best_val)"
   ]
  },
  {
   "cell_type": "code",
   "execution_count": 9,
   "metadata": {},
   "outputs": [
    {
     "name": "stdout",
     "output_type": "stream",
     "text": [
      "softmax on raw pixels final test set accuracy: 0.389000\n"
     ]
    }
   ],
   "source": [
    "# evaluate on test set\n",
    "# Evaluate the best softmax on test set\n",
    "y_test_pred = best_softmax.predict(X_test)\n",
    "test_accuracy = np.mean(y_test == y_test_pred)\n",
    "print('softmax on raw pixels final test set accuracy: %f' % (test_accuracy, ))"
   ]
  },
  {
   "cell_type": "markdown",
   "metadata": {},
   "source": [
    "**Inline Question 2:**\n",
    "\n",
    "Suppose we have trained an SVM classifier. It's possible to add a new datapoint to the training set that would leave the SVM loss unchanged. In particular, if the data point is correctly classified and far enough from the decision boundary, then the loss associated with this point will be 0.\n",
    "\n",
    "Now consider a trained Softmax classifier. Without retraining the classifier, is it possible to add a new datapoint to the training set that would leave the Softmax classifier loss unchanged? That is, is it possible to find a point for which the loss is 0?\n",
    "\n",
    "*Your answer*:\n",
    "\n",
    "No. New dataset will contribute to the term $\\sum_j e^{s_j}$ while calculating the loss result."
   ]
  },
  {
   "cell_type": "code",
   "execution_count": 10,
   "metadata": {},
   "outputs": [
    {
     "data": {
      "image/png": "[encoded data removed]",
      "text/plain": [
       "<Figure size 432x288 with 10 Axes>"
      ]
     },
     "metadata": {
      "needs_background": "light"
     },
     "output_type": "display_data"
    }
   ],
   "source": [
    "# Visualize the learned weights for each class\n",
    "w = best_softmax.W[:-1,:] # strip out the bias\n",
    "w = w.reshape(32, 32, 3, 10)\n",
    "\n",
    "w_min, w_max = np.min(w), np.max(w)\n",
    "\n",
    "classes = ['plane', 'car', 'bird', 'cat', 'deer', 'dog', 'frog', 'horse', 'ship', 'truck']\n",
    "for i in range(10):\n",
    "    plt.subplot(2, 5, i + 1)\n",
    "    \n",
    "    # Rescale the weights to be between 0 and 255\n",
    "    wimg = 255.0 * (w[:, :, :, i].squeeze() - w_min) / (w_max - w_min)\n",
    "    plt.imshow(wimg.astype('uint8'))\n",
    "    plt.axis('off')\n",
    "    plt.title(classes[i])"
   ]
  }
 ],
 "metadata": {
  "kernelspec": {
   "display_name": "Python 3",
   "language": "python",
   "name": "python3"
  },
  "language_info": {
   "codemirror_mode": {
    "name": "ipython",
    "version": 3
   },
   "file_extension": ".py",
   "mimetype": "text/x-python",
   "name": "python",
   "nbconvert_exporter": "python",
   "pygments_lexer": "ipython3",
   "version": "3.6.13"
  }
 },
 "nbformat": 4,
 "nbformat_minor": 1
}
